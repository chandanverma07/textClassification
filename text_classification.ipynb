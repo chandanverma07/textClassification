{
 "cells": [
  {
   "cell_type": "code",
   "execution_count": 1,
   "id": "46d7c960",
   "metadata": {},
   "outputs": [],
   "source": [
    "import pandas as pd\n",
    "import re\n",
    "import numpy as np \n",
    "from time import time\n",
    "import nltk\n",
    "import seaborn as sb\n",
    "from matplotlib import pyplot as plt"
   ]
  },
  {
   "cell_type": "code",
   "execution_count": 2,
   "id": "2cf75969",
   "metadata": {},
   "outputs": [],
   "source": [
    "training_data=pd.read_csv(r\"C:\\Users\\Shubh_Ram\\Dropbox\\My PC (LAPTOP-F3BSREE1)\\Desktop\\Online_ML_DataSets\\topic_classification_data.csv\")"
   ]
  },
  {
   "cell_type": "code",
   "execution_count": 3,
   "id": "7c05beb4",
   "metadata": {},
   "outputs": [
    {
     "data": {
      "text/html": [
       "<div>\n",
       "<style scoped>\n",
       "    .dataframe tbody tr th:only-of-type {\n",
       "        vertical-align: middle;\n",
       "    }\n",
       "\n",
       "    .dataframe tbody tr th {\n",
       "        vertical-align: top;\n",
       "    }\n",
       "\n",
       "    .dataframe thead th {\n",
       "        text-align: right;\n",
       "    }\n",
       "</style>\n",
       "<table border=\"1\" class=\"dataframe\">\n",
       "  <thead>\n",
       "    <tr style=\"text-align: right;\">\n",
       "      <th></th>\n",
       "      <th>Unnamed: 0</th>\n",
       "      <th>Category</th>\n",
       "      <th>Desc</th>\n",
       "    </tr>\n",
       "  </thead>\n",
       "  <tbody>\n",
       "    <tr>\n",
       "      <th>0</th>\n",
       "      <td>0</td>\n",
       "      <td>News and Media</td>\n",
       "      <td>Trend Watch: Media: Trump 'Caved' on Shutdown ...</td>\n",
       "    </tr>\n",
       "    <tr>\n",
       "      <th>1</th>\n",
       "      <td>1</td>\n",
       "      <td>Internet</td>\n",
       "      <td>ZYCOO is the leading developer and manufacture...</td>\n",
       "    </tr>\n",
       "    <tr>\n",
       "      <th>2</th>\n",
       "      <td>2</td>\n",
       "      <td>Law and Government</td>\n",
       "      <td>Zwaik,Gilbert &amp;amp; Associates P.C Long Island...</td>\n",
       "    </tr>\n",
       "    <tr>\n",
       "      <th>3</th>\n",
       "      <td>3</td>\n",
       "      <td>Beauty and Fitness</td>\n",
       "      <td>Zumba's cha-chas and pelvic thrusts can change...</td>\n",
       "    </tr>\n",
       "    <tr>\n",
       "      <th>4</th>\n",
       "      <td>4</td>\n",
       "      <td>Games</td>\n",
       "      <td>Zravian is the world's largest Zravian-like on...</td>\n",
       "    </tr>\n",
       "  </tbody>\n",
       "</table>\n",
       "</div>"
      ],
      "text/plain": [
       "   Unnamed: 0            Category  \\\n",
       "0           0      News and Media   \n",
       "1           1            Internet   \n",
       "2           2  Law and Government   \n",
       "3           3  Beauty and Fitness   \n",
       "4           4               Games   \n",
       "\n",
       "                                                Desc  \n",
       "0  Trend Watch: Media: Trump 'Caved' on Shutdown ...  \n",
       "1  ZYCOO is the leading developer and manufacture...  \n",
       "2  Zwaik,Gilbert &amp; Associates P.C Long Island...  \n",
       "3  Zumba's cha-chas and pelvic thrusts can change...  \n",
       "4  Zravian is the world's largest Zravian-like on...  "
      ]
     },
     "execution_count": 3,
     "metadata": {},
     "output_type": "execute_result"
    }
   ],
   "source": [
    "training_data.head()"
   ]
  },
  {
   "cell_type": "code",
   "execution_count": 4,
   "id": "70582f72",
   "metadata": {},
   "outputs": [
    {
     "name": "stdout",
     "output_type": "stream",
     "text": [
      "Total sample is (16618, 3)\n"
     ]
    }
   ],
   "source": [
    "print(\"Total sample is {}\".format(training_data.shape))"
   ]
  },
  {
   "cell_type": "code",
   "execution_count": 5,
   "id": "ce983212",
   "metadata": {},
   "outputs": [],
   "source": [
    "cat_information=training_data[\"Category\"].value_counts()"
   ]
  },
  {
   "cell_type": "code",
   "execution_count": 6,
   "id": "0ef8b840",
   "metadata": {},
   "outputs": [
    {
     "data": {
      "text/plain": [
       "26"
      ]
     },
     "execution_count": 6,
     "metadata": {},
     "output_type": "execute_result"
    }
   ],
   "source": [
    "len(cat_information)"
   ]
  },
  {
   "cell_type": "code",
   "execution_count": 7,
   "id": "da760cc5",
   "metadata": {},
   "outputs": [],
   "source": [
    "#cat_information"
   ]
  },
  {
   "cell_type": "code",
   "execution_count": 8,
   "id": "911fe04d",
   "metadata": {},
   "outputs": [
    {
     "name": "stderr",
     "output_type": "stream",
     "text": [
      "C:\\Users\\Shubh_Ram\\anaconda3\\lib\\site-packages\\seaborn\\_decorators.py:36: FutureWarning: Pass the following variable as a keyword arg: x. From version 0.12, the only valid positional argument will be `data`, and passing other arguments without an explicit keyword will result in an error or misinterpretation.\n",
      "  warnings.warn(\n"
     ]
    },
    {
     "data": {
      "image/png": "[encoded data removed]",
      "text/plain": [
       "<Figure size 432x288 with 1 Axes>"
      ]
     },
     "metadata": {
      "needs_background": "light"
     },
     "output_type": "display_data"
    }
   ],
   "source": [
    "sb.countplot(\"Category\",data=training_data)\n",
    "plt.xticks(rotation=90)\n",
    "plt.show()"
   ]
  },
  {
   "cell_type": "code",
   "execution_count": 9,
   "id": "3f9a0ae2",
   "metadata": {},
   "outputs": [],
   "source": [
    "#training_data[\"Desc\"]"
   ]
  },
  {
   "cell_type": "code",
   "execution_count": 10,
   "id": "1583de99",
   "metadata": {},
   "outputs": [],
   "source": [
    "def text_cleaning(data):\n",
    "    corpus=[]\n",
    "    for i in range(0,len(data)):\n",
    "        process_data=re.sub(r'\\W',' ',str(data[i]))\n",
    "        process_data=process_data.lower()\n",
    "        process_data=re.sub(r'\\d+',\" \",process_data)\n",
    "        process_data=re.sub(r\"[^a-zA-Z]\",' ',process_data)\n",
    "        process_data=re.sub(r'\\s+',' ',process_data)\n",
    "        corpus.append(process_data)\n",
    "    return corpus"
   ]
  },
  {
   "cell_type": "code",
   "execution_count": 11,
   "id": "9534161c",
   "metadata": {},
   "outputs": [],
   "source": [
    "corpus=text_cleaning(training_data[\"Desc\"])"
   ]
  },
  {
   "cell_type": "code",
   "execution_count": 12,
   "id": "a81d8f2b",
   "metadata": {},
   "outputs": [],
   "source": [
    "from sklearn.model_selection import train_test_split\n",
    "from sklearn.metrics import accuracy_score\n",
    "from sklearn.feature_extraction.text import TfidfVectorizer\n",
    "from sklearn.neighbors import KNeighborsClassifier\n",
    "from sklearn.naive_bayes import MultinomialNB\n",
    "from nltk.corpus import stopwords"
   ]
  },
  {
   "cell_type": "code",
   "execution_count": 13,
   "id": "f1cb2c65",
   "metadata": {},
   "outputs": [],
   "source": [
    "tf_vector=TfidfVectorizer(max_features=len(corpus),ngram_range=(1,2),min_df=1,max_df=.8,stop_words=stopwords.words('english'))"
   ]
  },
  {
   "cell_type": "code",
   "execution_count": 14,
   "id": "3f20fc0f",
   "metadata": {},
   "outputs": [
    {
     "data": {
      "text/plain": [
       "sklearn.feature_extraction.text.TfidfVectorizer"
      ]
     },
     "execution_count": 14,
     "metadata": {},
     "output_type": "execute_result"
    }
   ],
   "source": [
    "type(tf_vector)"
   ]
  },
  {
   "cell_type": "code",
   "execution_count": 15,
   "id": "3717a786",
   "metadata": {},
   "outputs": [],
   "source": [
    "tf_vector_matrix=tf_vector.fit_transform(corpus).todense()"
   ]
  },
  {
   "cell_type": "code",
   "execution_count": 16,
   "id": "8c00c53a",
   "metadata": {},
   "outputs": [],
   "source": [
    "#tf_vector_matrix"
   ]
  },
  {
   "cell_type": "code",
   "execution_count": 17,
   "id": "7165ae25",
   "metadata": {},
   "outputs": [],
   "source": [
    "tf_name=tf_vector.get_feature_names()"
   ]
  },
  {
   "cell_type": "code",
   "execution_count": 18,
   "id": "63bf3119",
   "metadata": {},
   "outputs": [],
   "source": [
    "x_feature=tf_vector_matrix\n",
    "y_cat=training_data.Category"
   ]
  },
  {
   "cell_type": "code",
   "execution_count": 19,
   "id": "1459333a",
   "metadata": {},
   "outputs": [],
   "source": [
    "Xtrain,Xtest,Ytrain,Ytest=train_test_split(x_feature,y_cat,test_size=.30,random_state=101)"
   ]
  },
  {
   "cell_type": "code",
   "execution_count": 20,
   "id": "1790077c",
   "metadata": {},
   "outputs": [
    {
     "name": "stdout",
     "output_type": "stream",
     "text": [
      "Time taken by knn moldel is 2.0647215843200684\n"
     ]
    }
   ],
   "source": [
    "time_s=time()\n",
    "knn_model=KNeighborsClassifier()\n",
    "knn_learner=knn_model.fit(Xtrain,Ytrain)\n",
    "time_end=time()\n",
    "time_knn=time_end-time_s\n",
    "print(\"Time taken by knn moldel is {}\".format(time_knn))"
   ]
  },
  {
   "cell_type": "code",
   "execution_count": 21,
   "id": "897e3ae3",
   "metadata": {},
   "outputs": [],
   "source": [
    "#Prediction"
   ]
  },
  {
   "cell_type": "code",
   "execution_count": 22,
   "id": "3ea84a08",
   "metadata": {},
   "outputs": [
    {
     "name": "stdout",
     "output_type": "stream",
     "text": [
      "ACc 0.15643802647412755 and time taken 147.80216550827026\n"
     ]
    }
   ],
   "source": [
    "time_s=time()\n",
    "Ypknn=knn_learner.predict(Xtest)\n",
    "acc_knnz=accuracy_score(Ypknn,Ytest)\n",
    "time_end=time()\n",
    "print(\"ACc {} and time taken {}\".format(acc_knnz,(time_end-time_s)))"
   ]
  },
  {
   "cell_type": "code",
   "execution_count": 23,
   "id": "dbb25121",
   "metadata": {},
   "outputs": [],
   "source": [
    "knn_details=[.15, .95 ,141]"
   ]
  },
  {
   "cell_type": "code",
   "execution_count": 24,
   "id": "2d441213",
   "metadata": {},
   "outputs": [],
   "source": [
    "#Model NB"
   ]
  },
  {
   "cell_type": "code",
   "execution_count": 25,
   "id": "9ec5ad2c",
   "metadata": {},
   "outputs": [
    {
     "name": "stdout",
     "output_type": "stream",
     "text": [
      "Time taken by nb model 2.461207151412964\n"
     ]
    }
   ],
   "source": [
    "time_s=time()\n",
    "nb_model=MultinomialNB()\n",
    "nb_learner=nb_model.fit(Xtrain,Ytrain)\n",
    "time_end=time()\n",
    "nb_train_time=time_end-time_s\n",
    "print(\"Time taken by nb model {}\".format(nb_train_time))"
   ]
  },
  {
   "cell_type": "code",
   "execution_count": 33,
   "id": "db9449b9",
   "metadata": {},
   "outputs": [],
   "source": [
    "testInput=tf_vector.transform([\"virus\"])"
   ]
  },
  {
   "cell_type": "code",
   "execution_count": 34,
   "id": "2908e2d6",
   "metadata": {},
   "outputs": [
    {
     "data": {
      "text/plain": [
       "array(['Computer and Electronics'], dtype='<U24')"
      ]
     },
     "execution_count": 34,
     "metadata": {},
     "output_type": "execute_result"
    }
   ],
   "source": [
    "nb_learner.predict(testInput)"
   ]
  },
  {
   "cell_type": "code",
   "execution_count": 28,
   "id": "b9ef969b",
   "metadata": {},
   "outputs": [
    {
     "name": "stdout",
     "output_type": "stream",
     "text": [
      "Acc of nb is 0.5655836341756919 and time taken 0.8647758960723877\n"
     ]
    }
   ],
   "source": [
    "time_s=time()\n",
    "Ypnb=nb_learner.predict(Xtest)\n",
    "acc_nb=accuracy_score(Ypnb,Ytest)\n",
    "time_end=time()\n",
    "time_take=time_end-time_s\n",
    "print(\"Acc of nb is {} and time taken {}\".format(acc_nb,time_take))"
   ]
  },
  {
   "cell_type": "code",
   "execution_count": null,
   "id": "c742d05c",
   "metadata": {},
   "outputs": [],
   "source": []
  }
 ],
 "metadata": {
  "kernelspec": {
   "display_name": "Python 3",
   "language": "python",
   "name": "python3"
  },
  "language_info": {
   "codemirror_mode": {
    "name": "ipython",
    "version": 3
   },
   "file_extension": ".py",
   "mimetype": "text/x-python",
   "name": "python",
   "nbconvert_exporter": "python",
   "pygments_lexer": "ipython3",
   "version": "3.8.8"
  }
 },
 "nbformat": 4,
 "nbformat_minor": 5
}
